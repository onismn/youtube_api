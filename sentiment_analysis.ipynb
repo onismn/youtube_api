{
  "nbformat": 4,
  "nbformat_minor": 0,
  "metadata": {
    "colab": {
      "provenance": [],
      "toc_visible": true
    },
    "kernelspec": {
      "name": "python3",
      "display_name": "Python 3"
    },
    "language_info": {
      "name": "python"
    }
  },
  "cells": [
    {
      "cell_type": "markdown",
      "source": [
        "##Import libraries and data"
      ],
      "metadata": {
        "id": "wRG9t6NgmZCL"
      }
    },
    {
      "cell_type": "code",
      "source": [
        "pip install vaderSentiment"
      ],
      "metadata": {
        "id": "2zc2o7f5uwt7"
      },
      "execution_count": null,
      "outputs": []
    },
    {
      "cell_type": "code",
      "execution_count": null,
      "metadata": {
        "id": "kpai_9NzyAKL"
      },
      "outputs": [],
      "source": [
        "import numpy as np\n",
        "import pandas as pd\n",
        "import spacy\n",
        "import string\n",
        "from collections import Counter\n",
        "from vaderSentiment.vaderSentiment import SentimentIntensityAnalyzer"
      ]
    },
    {
      "cell_type": "code",
      "source": [
        "nlp = spacy.load('en_core_web_sm')"
      ],
      "metadata": {
        "id": "Y0J0TO2IlwUJ"
      },
      "execution_count": null,
      "outputs": []
    },
    {
      "cell_type": "code",
      "source": [
        "df = pd.read_csv('youtube_vid_comments.csv')"
      ],
      "metadata": {
        "id": "oJjmCFHTcczX"
      },
      "execution_count": null,
      "outputs": []
    },
    {
      "cell_type": "code",
      "source": [
        "df.head()"
      ],
      "metadata": {
        "colab": {
          "base_uri": "https://localhost:8080/",
          "height": 206
        },
        "id": "dhZEQy9XcpRS",
        "outputId": "20a4fcee-4277-4254-a76f-402704c8cf35"
      },
      "execution_count": null,
      "outputs": [
        {
          "output_type": "execute_result",
          "data": {
            "text/plain": [
              "                 Author Name  \\\n",
              "0                Lex Fridman   \n",
              "1           Michael Wojcicki   \n",
              "2                  Allen Han   \n",
              "3  Charles Timmy Phillips jr   \n",
              "4                Alex Marcus   \n",
              "\n",
              "                                             Comment  Like Count  \n",
              "0  timestamps . Please check sponsors support pod...         626  \n",
              "1  corp wants shutdown free speech GOV calls want...           0  \n",
              "2  2000 # C main language . 2003 Scala Groovy , 2...           0  \n",
              "3                  m phone Timothy Allen cathy teeth           0  \n",
              "4               Lex , relax outfit . going funeral ?           0  "
            ],
            "text/html": [
              "\n",
              "  <div id=\"df-9fc68a2b-d593-4000-a35b-c7c4a6ab9f77\" class=\"colab-df-container\">\n",
              "    <div>\n",
              "<style scoped>\n",
              "    .dataframe tbody tr th:only-of-type {\n",
              "        vertical-align: middle;\n",
              "    }\n",
              "\n",
              "    .dataframe tbody tr th {\n",
              "        vertical-align: top;\n",
              "    }\n",
              "\n",
              "    .dataframe thead th {\n",
              "        text-align: right;\n",
              "    }\n",
              "</style>\n",
              "<table border=\"1\" class=\"dataframe\">\n",
              "  <thead>\n",
              "    <tr style=\"text-align: right;\">\n",
              "      <th></th>\n",
              "      <th>Author Name</th>\n",
              "      <th>Comment</th>\n",
              "      <th>Like Count</th>\n",
              "    </tr>\n",
              "  </thead>\n",
              "  <tbody>\n",
              "    <tr>\n",
              "      <th>0</th>\n",
              "      <td>Lex Fridman</td>\n",
              "      <td>timestamps . Please check sponsors support pod...</td>\n",
              "      <td>626</td>\n",
              "    </tr>\n",
              "    <tr>\n",
              "      <th>1</th>\n",
              "      <td>Michael Wojcicki</td>\n",
              "      <td>corp wants shutdown free speech GOV calls want...</td>\n",
              "      <td>0</td>\n",
              "    </tr>\n",
              "    <tr>\n",
              "      <th>2</th>\n",
              "      <td>Allen Han</td>\n",
              "      <td>2000 # C main language . 2003 Scala Groovy , 2...</td>\n",
              "      <td>0</td>\n",
              "    </tr>\n",
              "    <tr>\n",
              "      <th>3</th>\n",
              "      <td>Charles Timmy Phillips jr</td>\n",
              "      <td>m phone Timothy Allen cathy teeth</td>\n",
              "      <td>0</td>\n",
              "    </tr>\n",
              "    <tr>\n",
              "      <th>4</th>\n",
              "      <td>Alex Marcus</td>\n",
              "      <td>Lex , relax outfit . going funeral ?</td>\n",
              "      <td>0</td>\n",
              "    </tr>\n",
              "  </tbody>\n",
              "</table>\n",
              "</div>\n",
              "    <div class=\"colab-df-buttons\">\n",
              "\n",
              "  <div class=\"colab-df-container\">\n",
              "    <button class=\"colab-df-convert\" onclick=\"convertToInteractive('df-9fc68a2b-d593-4000-a35b-c7c4a6ab9f77')\"\n",
              "            title=\"Convert this dataframe to an interactive table.\"\n",
              "            style=\"display:none;\">\n",
              "\n",
              "  <svg xmlns=\"http://www.w3.org/2000/svg\" height=\"24px\" viewBox=\"0 -960 960 960\">\n",
              "    <path d=\"M120-120v-720h720v720H120Zm60-500h600v-160H180v160Zm220 220h160v-160H400v160Zm0 220h160v-160H400v160ZM180-400h160v-160H180v160Zm440 0h160v-160H620v160ZM180-180h160v-160H180v160Zm440 0h160v-160H620v160Z\"/>\n",
              "  </svg>\n",
              "    </button>\n",
              "\n",
              "  <style>\n",
              "    .colab-df-container {\n",
              "      display:flex;\n",
              "      gap: 12px;\n",
              "    }\n",
              "\n",
              "    .colab-df-convert {\n",
              "      background-color: #E8F0FE;\n",
              "      border: none;\n",
              "      border-radius: 50%;\n",
              "      cursor: pointer;\n",
              "      display: none;\n",
              "      fill: #1967D2;\n",
              "      height: 32px;\n",
              "      padding: 0 0 0 0;\n",
              "      width: 32px;\n",
              "    }\n",
              "\n",
              "    .colab-df-convert:hover {\n",
              "      background-color: #E2EBFA;\n",
              "      box-shadow: 0px 1px 2px rgba(60, 64, 67, 0.3), 0px 1px 3px 1px rgba(60, 64, 67, 0.15);\n",
              "      fill: #174EA6;\n",
              "    }\n",
              "\n",
              "    .colab-df-buttons div {\n",
              "      margin-bottom: 4px;\n",
              "    }\n",
              "\n",
              "    [theme=dark] .colab-df-convert {\n",
              "      background-color: #3B4455;\n",
              "      fill: #D2E3FC;\n",
              "    }\n",
              "\n",
              "    [theme=dark] .colab-df-convert:hover {\n",
              "      background-color: #434B5C;\n",
              "      box-shadow: 0px 1px 3px 1px rgba(0, 0, 0, 0.15);\n",
              "      filter: drop-shadow(0px 1px 2px rgba(0, 0, 0, 0.3));\n",
              "      fill: #FFFFFF;\n",
              "    }\n",
              "  </style>\n",
              "\n",
              "    <script>\n",
              "      const buttonEl =\n",
              "        document.querySelector('#df-9fc68a2b-d593-4000-a35b-c7c4a6ab9f77 button.colab-df-convert');\n",
              "      buttonEl.style.display =\n",
              "        google.colab.kernel.accessAllowed ? 'block' : 'none';\n",
              "\n",
              "      async function convertToInteractive(key) {\n",
              "        const element = document.querySelector('#df-9fc68a2b-d593-4000-a35b-c7c4a6ab9f77');\n",
              "        const dataTable =\n",
              "          await google.colab.kernel.invokeFunction('convertToInteractive',\n",
              "                                                    [key], {});\n",
              "        if (!dataTable) return;\n",
              "\n",
              "        const docLinkHtml = 'Like what you see? Visit the ' +\n",
              "          '<a target=\"_blank\" href=https://colab.research.google.com/notebooks/data_table.ipynb>data table notebook</a>'\n",
              "          + ' to learn more about interactive tables.';\n",
              "        element.innerHTML = '';\n",
              "        dataTable['output_type'] = 'display_data';\n",
              "        await google.colab.output.renderOutput(dataTable, element);\n",
              "        const docLink = document.createElement('div');\n",
              "        docLink.innerHTML = docLinkHtml;\n",
              "        element.appendChild(docLink);\n",
              "      }\n",
              "    </script>\n",
              "  </div>\n",
              "\n",
              "\n",
              "<div id=\"df-67ca5b1f-d8a2-4c26-916c-3e079932e121\">\n",
              "  <button class=\"colab-df-quickchart\" onclick=\"quickchart('df-67ca5b1f-d8a2-4c26-916c-3e079932e121')\"\n",
              "            title=\"Suggest charts.\"\n",
              "            style=\"display:none;\">\n",
              "\n",
              "<svg xmlns=\"http://www.w3.org/2000/svg\" height=\"24px\"viewBox=\"0 0 24 24\"\n",
              "     width=\"24px\">\n",
              "    <g>\n",
              "        <path d=\"M19 3H5c-1.1 0-2 .9-2 2v14c0 1.1.9 2 2 2h14c1.1 0 2-.9 2-2V5c0-1.1-.9-2-2-2zM9 17H7v-7h2v7zm4 0h-2V7h2v10zm4 0h-2v-4h2v4z\"/>\n",
              "    </g>\n",
              "</svg>\n",
              "  </button>\n",
              "\n",
              "<style>\n",
              "  .colab-df-quickchart {\n",
              "    background-color: #E8F0FE;\n",
              "    border: none;\n",
              "    border-radius: 50%;\n",
              "    cursor: pointer;\n",
              "    display: none;\n",
              "    fill: #1967D2;\n",
              "    height: 32px;\n",
              "    padding: 0 0 0 0;\n",
              "    width: 32px;\n",
              "  }\n",
              "\n",
              "  .colab-df-quickchart:hover {\n",
              "    background-color: #E2EBFA;\n",
              "    box-shadow: 0px 1px 2px rgba(60, 64, 67, 0.3), 0px 1px 3px 1px rgba(60, 64, 67, 0.15);\n",
              "    fill: #174EA6;\n",
              "  }\n",
              "\n",
              "  [theme=dark] .colab-df-quickchart {\n",
              "    background-color: #3B4455;\n",
              "    fill: #D2E3FC;\n",
              "  }\n",
              "\n",
              "  [theme=dark] .colab-df-quickchart:hover {\n",
              "    background-color: #434B5C;\n",
              "    box-shadow: 0px 1px 3px 1px rgba(0, 0, 0, 0.15);\n",
              "    filter: drop-shadow(0px 1px 2px rgba(0, 0, 0, 0.3));\n",
              "    fill: #FFFFFF;\n",
              "  }\n",
              "</style>\n",
              "\n",
              "  <script>\n",
              "    async function quickchart(key) {\n",
              "      const charts = await google.colab.kernel.invokeFunction(\n",
              "          'suggestCharts', [key], {});\n",
              "    }\n",
              "    (() => {\n",
              "      let quickchartButtonEl =\n",
              "        document.querySelector('#df-67ca5b1f-d8a2-4c26-916c-3e079932e121 button');\n",
              "      quickchartButtonEl.style.display =\n",
              "        google.colab.kernel.accessAllowed ? 'block' : 'none';\n",
              "    })();\n",
              "  </script>\n",
              "</div>\n",
              "    </div>\n",
              "  </div>\n"
            ]
          },
          "metadata": {},
          "execution_count": 5
        }
      ]
    },
    {
      "cell_type": "code",
      "source": [
        "df = df.dropna(how='any')"
      ],
      "metadata": {
        "id": "CAfSV5zfcsjV"
      },
      "execution_count": null,
      "outputs": []
    },
    {
      "cell_type": "markdown",
      "source": [
        "##Pre-processing"
      ],
      "metadata": {
        "id": "0Me2s6VtmhiK"
      }
    },
    {
      "cell_type": "markdown",
      "source": [
        "We already cleaning data to a certain extent after extraxting from API"
      ],
      "metadata": {
        "id": "ctiwWdRCpA52"
      }
    },
    {
      "cell_type": "markdown",
      "source": [
        "####Tokenization"
      ],
      "metadata": {
        "id": "XOvlWfQNmrVZ"
      }
    },
    {
      "cell_type": "code",
      "source": [
        "def tokenize_text(text):\n",
        "    doc = nlp(text)\n",
        "    tokens = [token.text for token in doc]\n",
        "    return tokens"
      ],
      "metadata": {
        "id": "UkJBa8nJeLcc"
      },
      "execution_count": null,
      "outputs": []
    },
    {
      "cell_type": "code",
      "source": [
        "df['tokens'] = df['Comment'].apply(tokenize_text)"
      ],
      "metadata": {
        "id": "WAHp6HuRnAP-"
      },
      "execution_count": null,
      "outputs": []
    },
    {
      "cell_type": "markdown",
      "source": [
        "####Lowercasting"
      ],
      "metadata": {
        "id": "9uXbXk35sYRq"
      }
    },
    {
      "cell_type": "code",
      "source": [
        "df['lowercase_tokens'] = df['tokens'].apply(lambda tokens: [token.lower() for token in tokens])"
      ],
      "metadata": {
        "id": "HW9dxC-LsaRV"
      },
      "execution_count": null,
      "outputs": []
    },
    {
      "cell_type": "markdown",
      "source": [
        "####Lemmatization"
      ],
      "metadata": {
        "id": "n-JCyzOio9-E"
      }
    },
    {
      "cell_type": "code",
      "source": [
        "def lemmatize_tokens(tokens):\n",
        "    doc = nlp(\" \".join(tokens))\n",
        "    lemmatized_tokens = [token.lemma_ for token in doc]\n",
        "    return lemmatized_tokens"
      ],
      "metadata": {
        "id": "3EZRkquno_Zr"
      },
      "execution_count": null,
      "outputs": []
    },
    {
      "cell_type": "code",
      "source": [
        "df['lemmatized_tokens'] = df['lowercase_tokens'].apply(lemmatize_tokens)"
      ],
      "metadata": {
        "id": "ZuyHwfA9pWtX"
      },
      "execution_count": null,
      "outputs": []
    },
    {
      "cell_type": "markdown",
      "source": [
        "####Stopword Removal"
      ],
      "metadata": {
        "id": "W32IQKlhrML8"
      }
    },
    {
      "cell_type": "code",
      "source": [
        "def remove_stopwords(tokens):\n",
        "    doc = nlp(\" \".join(tokens))\n",
        "    filtered_tokens = [token.text for token in doc if not token.is_stop]\n",
        "    return filtered_tokens"
      ],
      "metadata": {
        "id": "aUEBsJuLrOij"
      },
      "execution_count": null,
      "outputs": []
    },
    {
      "cell_type": "code",
      "source": [
        "df['filtered_tokens'] = df['lemmatized_tokens'].apply(remove_stopwords)"
      ],
      "metadata": {
        "id": "e3IDp31urR5W"
      },
      "execution_count": null,
      "outputs": []
    },
    {
      "cell_type": "markdown",
      "source": [
        "####Punctuation Removal\n"
      ],
      "metadata": {
        "id": "-gFckncitkZB"
      }
    },
    {
      "cell_type": "code",
      "source": [
        "def remove_punctuation(tokens):\n",
        "    no_punct_tokens = [token for token in tokens if token not in string.punctuation]\n",
        "    return no_punct_tokens"
      ],
      "metadata": {
        "id": "mJ8-YB0itlUM"
      },
      "execution_count": null,
      "outputs": []
    },
    {
      "cell_type": "code",
      "source": [
        "df['no_punct_tokens'] = df['filtered_tokens'].apply(remove_punctuation)"
      ],
      "metadata": {
        "id": "KuHD3QIEtl3X"
      },
      "execution_count": null,
      "outputs": []
    },
    {
      "cell_type": "markdown",
      "source": [
        "####Word frequency count"
      ],
      "metadata": {
        "id": "w9mAluwAqRn8"
      }
    },
    {
      "cell_type": "code",
      "source": [
        "all_tokens = [token for tokens_list in df['no_punct_tokens'] for token in tokens_list]\n",
        "word_freq = Counter(all_tokens)\n",
        "print(word_freq)"
      ],
      "metadata": {
        "id": "0p_SZ-MOqchD"
      },
      "execution_count": null,
      "outputs": []
    },
    {
      "cell_type": "markdown",
      "source": [
        "###Sentiment Analysis"
      ],
      "metadata": {
        "id": "T0Tuzo7WuvYk"
      }
    },
    {
      "cell_type": "code",
      "source": [
        "analyzer = SentimentIntensityAnalyzer()\n",
        "def analyze_sentiment(text):\n",
        "    sentiment_scores = analyzer.polarity_scores(text)\n",
        "    return sentiment_scores"
      ],
      "metadata": {
        "id": "-iGLj68oxfxm"
      },
      "execution_count": null,
      "outputs": []
    },
    {
      "cell_type": "code",
      "source": [
        "df['sentiment_scores'] = df['Comment'].apply(analyze_sentiment)"
      ],
      "metadata": {
        "id": "GgYk5NF4xxsp"
      },
      "execution_count": null,
      "outputs": []
    },
    {
      "cell_type": "code",
      "source": [
        "columns_to_drop = ['Like Count', 'tokens', 'lowercase_tokens', 'lemmatized_tokens', 'filtered_tokens', 'no_punct_tokens']\n",
        "df = df.drop(columns=columns_to_drop)"
      ],
      "metadata": {
        "id": "G-EIOuk2yhHz"
      },
      "execution_count": null,
      "outputs": []
    },
    {
      "cell_type": "code",
      "source": [
        "df"
      ],
      "metadata": {
        "colab": {
          "base_uri": "https://localhost:8080/",
          "height": 423
        },
        "id": "5C5So3f1y8Pp",
        "outputId": "fefd3ff0-56d7-4012-c722-df00a3113b76"
      },
      "execution_count": null,
      "outputs": [
        {
          "output_type": "execute_result",
          "data": {
            "text/plain": [
              "                   Author Name  \\\n",
              "0                  Lex Fridman   \n",
              "1             Michael Wojcicki   \n",
              "2                    Allen Han   \n",
              "3    Charles Timmy Phillips jr   \n",
              "4                  Alex Marcus   \n",
              "..                         ...   \n",
              "994                    Bernios   \n",
              "995                George Heck   \n",
              "996                    Scott T   \n",
              "997            Ellie Jo Bonney   \n",
              "998                  viruslab1   \n",
              "\n",
              "                                               Comment  \\\n",
              "0    timestamps . Please check sponsors support pod...   \n",
              "1    corp wants shutdown free speech GOV calls want...   \n",
              "2    2000 # C main language . 2003 Scala Groovy , 2...   \n",
              "3                    m phone Timothy Allen cathy teeth   \n",
              "4                 Lex , relax outfit . going funeral ?   \n",
              "..                                                 ...   \n",
              "994  ve got hand Lex : manages talk influential per...   \n",
              "995  many umm try stop ! friendly advice past compe...   \n",
              "996        first time 's ever seemed like actual human   \n",
              "997                      666k views ... jus saying xxx   \n",
              "998                                             best !   \n",
              "\n",
              "                                      sentiment_scores  \n",
              "0    {'neg': 0.033, 'neu': 0.809, 'pos': 0.158, 'co...  \n",
              "1    {'neg': 0.0, 'neu': 0.82, 'pos': 0.18, 'compou...  \n",
              "2    {'neg': 0.025, 'neu': 0.906, 'pos': 0.07, 'com...  \n",
              "3    {'neg': 0.0, 'neu': 1.0, 'pos': 0.0, 'compound...  \n",
              "4    {'neg': 0.219, 'neu': 0.526, 'pos': 0.254, 'co...  \n",
              "..                                                 ...  \n",
              "994  {'neg': 0.0, 'neu': 0.654, 'pos': 0.346, 'comp...  \n",
              "995  {'neg': 0.073, 'neu': 0.629, 'pos': 0.298, 'co...  \n",
              "996  {'neg': 0.0, 'neu': 0.737, 'pos': 0.263, 'comp...  \n",
              "997  {'neg': 0.0, 'neu': 1.0, 'pos': 0.0, 'compound...  \n",
              "998  {'neg': 0.0, 'neu': 0.182, 'pos': 0.818, 'comp...  \n",
              "\n",
              "[985 rows x 3 columns]"
            ],
            "text/html": [
              "\n",
              "  <div id=\"df-95f59eda-7c9e-483e-9947-2f37d2cac028\" class=\"colab-df-container\">\n",
              "    <div>\n",
              "<style scoped>\n",
              "    .dataframe tbody tr th:only-of-type {\n",
              "        vertical-align: middle;\n",
              "    }\n",
              "\n",
              "    .dataframe tbody tr th {\n",
              "        vertical-align: top;\n",
              "    }\n",
              "\n",
              "    .dataframe thead th {\n",
              "        text-align: right;\n",
              "    }\n",
              "</style>\n",
              "<table border=\"1\" class=\"dataframe\">\n",
              "  <thead>\n",
              "    <tr style=\"text-align: right;\">\n",
              "      <th></th>\n",
              "      <th>Author Name</th>\n",
              "      <th>Comment</th>\n",
              "      <th>sentiment_scores</th>\n",
              "    </tr>\n",
              "  </thead>\n",
              "  <tbody>\n",
              "    <tr>\n",
              "      <th>0</th>\n",
              "      <td>Lex Fridman</td>\n",
              "      <td>timestamps . Please check sponsors support pod...</td>\n",
              "      <td>{'neg': 0.033, 'neu': 0.809, 'pos': 0.158, 'co...</td>\n",
              "    </tr>\n",
              "    <tr>\n",
              "      <th>1</th>\n",
              "      <td>Michael Wojcicki</td>\n",
              "      <td>corp wants shutdown free speech GOV calls want...</td>\n",
              "      <td>{'neg': 0.0, 'neu': 0.82, 'pos': 0.18, 'compou...</td>\n",
              "    </tr>\n",
              "    <tr>\n",
              "      <th>2</th>\n",
              "      <td>Allen Han</td>\n",
              "      <td>2000 # C main language . 2003 Scala Groovy , 2...</td>\n",
              "      <td>{'neg': 0.025, 'neu': 0.906, 'pos': 0.07, 'com...</td>\n",
              "    </tr>\n",
              "    <tr>\n",
              "      <th>3</th>\n",
              "      <td>Charles Timmy Phillips jr</td>\n",
              "      <td>m phone Timothy Allen cathy teeth</td>\n",
              "      <td>{'neg': 0.0, 'neu': 1.0, 'pos': 0.0, 'compound...</td>\n",
              "    </tr>\n",
              "    <tr>\n",
              "      <th>4</th>\n",
              "      <td>Alex Marcus</td>\n",
              "      <td>Lex , relax outfit . going funeral ?</td>\n",
              "      <td>{'neg': 0.219, 'neu': 0.526, 'pos': 0.254, 'co...</td>\n",
              "    </tr>\n",
              "    <tr>\n",
              "      <th>...</th>\n",
              "      <td>...</td>\n",
              "      <td>...</td>\n",
              "      <td>...</td>\n",
              "    </tr>\n",
              "    <tr>\n",
              "      <th>994</th>\n",
              "      <td>Bernios</td>\n",
              "      <td>ve got hand Lex : manages talk influential per...</td>\n",
              "      <td>{'neg': 0.0, 'neu': 0.654, 'pos': 0.346, 'comp...</td>\n",
              "    </tr>\n",
              "    <tr>\n",
              "      <th>995</th>\n",
              "      <td>George Heck</td>\n",
              "      <td>many umm try stop ! friendly advice past compe...</td>\n",
              "      <td>{'neg': 0.073, 'neu': 0.629, 'pos': 0.298, 'co...</td>\n",
              "    </tr>\n",
              "    <tr>\n",
              "      <th>996</th>\n",
              "      <td>Scott T</td>\n",
              "      <td>first time 's ever seemed like actual human</td>\n",
              "      <td>{'neg': 0.0, 'neu': 0.737, 'pos': 0.263, 'comp...</td>\n",
              "    </tr>\n",
              "    <tr>\n",
              "      <th>997</th>\n",
              "      <td>Ellie Jo Bonney</td>\n",
              "      <td>666k views ... jus saying xxx</td>\n",
              "      <td>{'neg': 0.0, 'neu': 1.0, 'pos': 0.0, 'compound...</td>\n",
              "    </tr>\n",
              "    <tr>\n",
              "      <th>998</th>\n",
              "      <td>viruslab1</td>\n",
              "      <td>best !</td>\n",
              "      <td>{'neg': 0.0, 'neu': 0.182, 'pos': 0.818, 'comp...</td>\n",
              "    </tr>\n",
              "  </tbody>\n",
              "</table>\n",
              "<p>985 rows × 3 columns</p>\n",
              "</div>\n",
              "    <div class=\"colab-df-buttons\">\n",
              "\n",
              "  <div class=\"colab-df-container\">\n",
              "    <button class=\"colab-df-convert\" onclick=\"convertToInteractive('df-95f59eda-7c9e-483e-9947-2f37d2cac028')\"\n",
              "            title=\"Convert this dataframe to an interactive table.\"\n",
              "            style=\"display:none;\">\n",
              "\n",
              "  <svg xmlns=\"http://www.w3.org/2000/svg\" height=\"24px\" viewBox=\"0 -960 960 960\">\n",
              "    <path d=\"M120-120v-720h720v720H120Zm60-500h600v-160H180v160Zm220 220h160v-160H400v160Zm0 220h160v-160H400v160ZM180-400h160v-160H180v160Zm440 0h160v-160H620v160ZM180-180h160v-160H180v160Zm440 0h160v-160H620v160Z\"/>\n",
              "  </svg>\n",
              "    </button>\n",
              "\n",
              "  <style>\n",
              "    .colab-df-container {\n",
              "      display:flex;\n",
              "      gap: 12px;\n",
              "    }\n",
              "\n",
              "    .colab-df-convert {\n",
              "      background-color: #E8F0FE;\n",
              "      border: none;\n",
              "      border-radius: 50%;\n",
              "      cursor: pointer;\n",
              "      display: none;\n",
              "      fill: #1967D2;\n",
              "      height: 32px;\n",
              "      padding: 0 0 0 0;\n",
              "      width: 32px;\n",
              "    }\n",
              "\n",
              "    .colab-df-convert:hover {\n",
              "      background-color: #E2EBFA;\n",
              "      box-shadow: 0px 1px 2px rgba(60, 64, 67, 0.3), 0px 1px 3px 1px rgba(60, 64, 67, 0.15);\n",
              "      fill: #174EA6;\n",
              "    }\n",
              "\n",
              "    .colab-df-buttons div {\n",
              "      margin-bottom: 4px;\n",
              "    }\n",
              "\n",
              "    [theme=dark] .colab-df-convert {\n",
              "      background-color: #3B4455;\n",
              "      fill: #D2E3FC;\n",
              "    }\n",
              "\n",
              "    [theme=dark] .colab-df-convert:hover {\n",
              "      background-color: #434B5C;\n",
              "      box-shadow: 0px 1px 3px 1px rgba(0, 0, 0, 0.15);\n",
              "      filter: drop-shadow(0px 1px 2px rgba(0, 0, 0, 0.3));\n",
              "      fill: #FFFFFF;\n",
              "    }\n",
              "  </style>\n",
              "\n",
              "    <script>\n",
              "      const buttonEl =\n",
              "        document.querySelector('#df-95f59eda-7c9e-483e-9947-2f37d2cac028 button.colab-df-convert');\n",
              "      buttonEl.style.display =\n",
              "        google.colab.kernel.accessAllowed ? 'block' : 'none';\n",
              "\n",
              "      async function convertToInteractive(key) {\n",
              "        const element = document.querySelector('#df-95f59eda-7c9e-483e-9947-2f37d2cac028');\n",
              "        const dataTable =\n",
              "          await google.colab.kernel.invokeFunction('convertToInteractive',\n",
              "                                                    [key], {});\n",
              "        if (!dataTable) return;\n",
              "\n",
              "        const docLinkHtml = 'Like what you see? Visit the ' +\n",
              "          '<a target=\"_blank\" href=https://colab.research.google.com/notebooks/data_table.ipynb>data table notebook</a>'\n",
              "          + ' to learn more about interactive tables.';\n",
              "        element.innerHTML = '';\n",
              "        dataTable['output_type'] = 'display_data';\n",
              "        await google.colab.output.renderOutput(dataTable, element);\n",
              "        const docLink = document.createElement('div');\n",
              "        docLink.innerHTML = docLinkHtml;\n",
              "        element.appendChild(docLink);\n",
              "      }\n",
              "    </script>\n",
              "  </div>\n",
              "\n",
              "\n",
              "<div id=\"df-589c4f75-adf2-4d7a-80e0-9af4b06e411d\">\n",
              "  <button class=\"colab-df-quickchart\" onclick=\"quickchart('df-589c4f75-adf2-4d7a-80e0-9af4b06e411d')\"\n",
              "            title=\"Suggest charts.\"\n",
              "            style=\"display:none;\">\n",
              "\n",
              "<svg xmlns=\"http://www.w3.org/2000/svg\" height=\"24px\"viewBox=\"0 0 24 24\"\n",
              "     width=\"24px\">\n",
              "    <g>\n",
              "        <path d=\"M19 3H5c-1.1 0-2 .9-2 2v14c0 1.1.9 2 2 2h14c1.1 0 2-.9 2-2V5c0-1.1-.9-2-2-2zM9 17H7v-7h2v7zm4 0h-2V7h2v10zm4 0h-2v-4h2v4z\"/>\n",
              "    </g>\n",
              "</svg>\n",
              "  </button>\n",
              "\n",
              "<style>\n",
              "  .colab-df-quickchart {\n",
              "    background-color: #E8F0FE;\n",
              "    border: none;\n",
              "    border-radius: 50%;\n",
              "    cursor: pointer;\n",
              "    display: none;\n",
              "    fill: #1967D2;\n",
              "    height: 32px;\n",
              "    padding: 0 0 0 0;\n",
              "    width: 32px;\n",
              "  }\n",
              "\n",
              "  .colab-df-quickchart:hover {\n",
              "    background-color: #E2EBFA;\n",
              "    box-shadow: 0px 1px 2px rgba(60, 64, 67, 0.3), 0px 1px 3px 1px rgba(60, 64, 67, 0.15);\n",
              "    fill: #174EA6;\n",
              "  }\n",
              "\n",
              "  [theme=dark] .colab-df-quickchart {\n",
              "    background-color: #3B4455;\n",
              "    fill: #D2E3FC;\n",
              "  }\n",
              "\n",
              "  [theme=dark] .colab-df-quickchart:hover {\n",
              "    background-color: #434B5C;\n",
              "    box-shadow: 0px 1px 3px 1px rgba(0, 0, 0, 0.15);\n",
              "    filter: drop-shadow(0px 1px 2px rgba(0, 0, 0, 0.3));\n",
              "    fill: #FFFFFF;\n",
              "  }\n",
              "</style>\n",
              "\n",
              "  <script>\n",
              "    async function quickchart(key) {\n",
              "      const charts = await google.colab.kernel.invokeFunction(\n",
              "          'suggestCharts', [key], {});\n",
              "    }\n",
              "    (() => {\n",
              "      let quickchartButtonEl =\n",
              "        document.querySelector('#df-589c4f75-adf2-4d7a-80e0-9af4b06e411d button');\n",
              "      quickchartButtonEl.style.display =\n",
              "        google.colab.kernel.accessAllowed ? 'block' : 'none';\n",
              "    })();\n",
              "  </script>\n",
              "</div>\n",
              "    </div>\n",
              "  </div>\n"
            ]
          },
          "metadata": {},
          "execution_count": 20
        }
      ]
    },
    {
      "cell_type": "markdown",
      "source": [
        "##Classify sentiment category"
      ],
      "metadata": {
        "id": "78LyvDgL3WL0"
      }
    },
    {
      "cell_type": "code",
      "source": [
        "def classify_sentiment(scores):\n",
        "    if scores['pos'] > scores['neg'] and scores['pos'] > scores['neu']:\n",
        "        return 'positive'\n",
        "    elif scores['neg'] > scores['pos'] and scores['neg'] > scores['neu']:\n",
        "        return 'negative'\n",
        "    else:\n",
        "        return 'neutral'"
      ],
      "metadata": {
        "id": "r_W_rDT73ZRp"
      },
      "execution_count": null,
      "outputs": []
    },
    {
      "cell_type": "code",
      "source": [
        "df['sentiment_category'] = df['sentiment_scores'].apply(classify_sentiment)\n",
        "sentiment_counts = df['sentiment_category'].value_counts()\n",
        "print(sentiment_counts)"
      ],
      "metadata": {
        "colab": {
          "base_uri": "https://localhost:8080/"
        },
        "id": "XYVrsSXN4SHw",
        "outputId": "1d3137a5-6d4e-4d22-d2ce-2e84f730e34e"
      },
      "execution_count": null,
      "outputs": [
        {
          "output_type": "stream",
          "name": "stdout",
          "text": [
            "neutral     853\n",
            "positive     91\n",
            "negative     41\n",
            "Name: sentiment_category, dtype: int64\n"
          ]
        }
      ]
    }
  ]
}