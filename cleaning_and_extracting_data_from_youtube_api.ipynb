{
  "nbformat": 4,
  "nbformat_minor": 0,
  "metadata": {
    "colab": {
      "provenance": [],
      "authorship_tag": "ABX9TyMhyyUgbfqMvDi6MeDfADXd"
    },
    "kernelspec": {
      "name": "python3",
      "display_name": "Python 3"
    },
    "language_info": {
      "name": "python"
    },
    "accelerator": "TPU"
  },
  "cells": [
    {
      "cell_type": "markdown",
      "source": [
        "##Extracting data from API"
      ],
      "metadata": {
        "id": "tMzFed1QTjzQ"
      }
    },
    {
      "cell_type": "code",
      "execution_count": null,
      "metadata": {
        "id": "svnZDDaNzSH_"
      },
      "outputs": [],
      "source": [
        "#import libraries\n",
        "import numpy as np\n",
        "import pandas as pd\n",
        "import time\n",
        "import requests\n",
        "import json"
      ]
    },
    {
      "cell_type": "code",
      "source": [
        "#keys\n",
        "api_key = 'YOUR_API_KEY'\n",
        "video_link = 'https://www.youtube.com/watch?v=Ff4fRgnuFgQ'\n",
        "video_id = 'Ff4fRgnuFgQ'"
      ],
      "metadata": {
        "id": "iSl1TriOzyie"
      },
      "execution_count": null,
      "outputs": []
    },
    {
      "cell_type": "code",
      "source": [
        "#make API call\n",
        "url = \"https://www.googleapis.com/youtube/v3/commentThreads?part=snippet,replies&videoId=\"+video_id+\"&key=\"+api_key+\"&maxResults=50\"\n",
        "response = requests.get(url).json()"
      ],
      "metadata": {
        "id": "2v8zy0O_z03r"
      },
      "execution_count": null,
      "outputs": []
    },
    {
      "cell_type": "code",
      "source": [
        "response"
      ],
      "metadata": {
        "id": "ciAbXw1Zz1ol"
      },
      "execution_count": null,
      "outputs": []
    },
    {
      "cell_type": "code",
      "source": [
        "response['items'][0]\n",
        "#we only need textDisplay to get the comments"
      ],
      "metadata": {
        "id": "cBzLFthez_T-"
      },
      "execution_count": null,
      "outputs": []
    },
    {
      "cell_type": "code",
      "source": [
        "textDisplay = response['items'][0]['snippet']['topLevelComment']['snippet']['textDisplay']\n",
        "textDisplay"
      ],
      "metadata": {
        "id": "NFvVKDTB0F29"
      },
      "execution_count": null,
      "outputs": []
    },
    {
      "cell_type": "code",
      "source": [
        "#we can retrive other data like author name, like count\n",
        "authorDisplayName = response['items'][0]['snippet']['topLevelComment']['snippet']['authorDisplayName']\n",
        "textDisplay = response['items'][0]['snippet']['topLevelComment']['snippet']['textDisplay']\n",
        "likeCount = response['items'][0]['snippet']['topLevelComment']['snippet']['likeCount']\n",
        "authorDisplayName, textDisplay, likeCount"
      ],
      "metadata": {
        "id": "Tyt3TJBk0QCn"
      },
      "execution_count": null,
      "outputs": []
    },
    {
      "cell_type": "code",
      "source": [
        "#build a dataframe\n",
        "df = pd.DataFrame(columns=[\"Author Name\", \"Comment\", \"Like Count\"])"
      ],
      "metadata": {
        "id": "hbjfIKCu0VOz"
      },
      "execution_count": null,
      "outputs": []
    },
    {
      "cell_type": "code",
      "source": [
        "def get_comments(df, max_pages):\n",
        "    pageToken = ''\n",
        "    count = 0\n",
        "    while count < max_pages:\n",
        "        url = \"https://www.googleapis.com/youtube/v3/commentThreads?part=snippet,replies&videoId=\"+video_id+\"&key=\"+api_key+\"&maxResults=50&\"+pageToken\n",
        "        response = requests.get(url).json()\n",
        "        time.sleep(1) #give it a second before starting the for loop\n",
        "        for comment in response['items']:\n",
        "            authorDisplayName = comment['snippet']['topLevelComment']['snippet']['authorDisplayName']\n",
        "            textDisplay = comment['snippet']['topLevelComment']['snippet']['textDisplay']\n",
        "            likeCount = comment['snippet']['topLevelComment']['snippet']['likeCount']\n",
        "\n",
        "            df = df.append({'Author Name':authorDisplayName, 'Comment':textDisplay ,'Like Count':likeCount}, ignore_index=True)\n",
        "        try:\n",
        "            if response['nextPageToken'] != None:  #if none, it means it reached the last page and break out of it\n",
        "                pageToken = \"pageToken=\" + response['nextPageToken']\n",
        "        except:\n",
        "            break\n",
        "        count += 1\n",
        "    return df"
      ],
      "metadata": {
        "id": "qZXv0vPA0hBB"
      },
      "execution_count": null,
      "outputs": []
    },
    {
      "cell_type": "code",
      "source": [
        "df = get_comments(df, 20) #we will collect data from 20 pages (20x50 comments)"
      ],
      "metadata": {
        "id": "28SlP5Cr0nTa"
      },
      "execution_count": null,
      "outputs": []
    },
    {
      "cell_type": "code",
      "source": [
        "df.sample(10)"
      ],
      "metadata": {
        "colab": {
          "base_uri": "https://localhost:8080/",
          "height": 363
        },
        "id": "Y8v2zpYV1M4P",
        "outputId": "445ae291-e0df-4631-e15f-d768cb3747f2"
      },
      "execution_count": null,
      "outputs": [
        {
          "output_type": "execute_result",
          "data": {
            "text/plain": [
              "             Author Name                                            Comment  \\\n",
              "691      Steven McDaniel  That was a disappointment for a podcast. I tho...   \n",
              "982                 KITT  the weights were not meant to be released but ...   \n",
              "452             sirmolio  <a href=\"https://www.youtube.com/watch?v=Ff4fR...   \n",
              "317         Pillow Pants  &quot;We have mini jiu jitsu tournaments in my...   \n",
              "776        Daniel Nelson  I&#39;m going to critique this from a big pict...   \n",
              "337           Akiff Hssn  1. Does a rise in AI Computation required incr...   \n",
              "164                 E.C.                 Taylor swift is a terrible singer.   \n",
              "187                  R G  zuck&#39;s garage is the size of the white hou...   \n",
              "702  Kevin Star Official  Zuckerberg is so fake, especially when discuss...   \n",
              "217           Delta Lame                I wanna see his booster seat 🤔... 😅   \n",
              "\n",
              "    Like Count  \n",
              "691          1  \n",
              "982          0  \n",
              "452          1  \n",
              "317          0  \n",
              "776          1  \n",
              "337          0  \n",
              "164          0  \n",
              "187          0  \n",
              "702          1  \n",
              "217          0  "
            ],
            "text/html": [
              "\n",
              "  <div id=\"df-e54f96f7-e04a-4ca5-bff3-2bbb7833c97e\" class=\"colab-df-container\">\n",
              "    <div>\n",
              "<style scoped>\n",
              "    .dataframe tbody tr th:only-of-type {\n",
              "        vertical-align: middle;\n",
              "    }\n",
              "\n",
              "    .dataframe tbody tr th {\n",
              "        vertical-align: top;\n",
              "    }\n",
              "\n",
              "    .dataframe thead th {\n",
              "        text-align: right;\n",
              "    }\n",
              "</style>\n",
              "<table border=\"1\" class=\"dataframe\">\n",
              "  <thead>\n",
              "    <tr style=\"text-align: right;\">\n",
              "      <th></th>\n",
              "      <th>Author Name</th>\n",
              "      <th>Comment</th>\n",
              "      <th>Like Count</th>\n",
              "    </tr>\n",
              "  </thead>\n",
              "  <tbody>\n",
              "    <tr>\n",
              "      <th>691</th>\n",
              "      <td>Steven McDaniel</td>\n",
              "      <td>That was a disappointment for a podcast. I tho...</td>\n",
              "      <td>1</td>\n",
              "    </tr>\n",
              "    <tr>\n",
              "      <th>982</th>\n",
              "      <td>KITT</td>\n",
              "      <td>the weights were not meant to be released but ...</td>\n",
              "      <td>0</td>\n",
              "    </tr>\n",
              "    <tr>\n",
              "      <th>452</th>\n",
              "      <td>sirmolio</td>\n",
              "      <td>&lt;a href=\"https://www.youtube.com/watch?v=Ff4fR...</td>\n",
              "      <td>1</td>\n",
              "    </tr>\n",
              "    <tr>\n",
              "      <th>317</th>\n",
              "      <td>Pillow Pants</td>\n",
              "      <td>&amp;quot;We have mini jiu jitsu tournaments in my...</td>\n",
              "      <td>0</td>\n",
              "    </tr>\n",
              "    <tr>\n",
              "      <th>776</th>\n",
              "      <td>Daniel Nelson</td>\n",
              "      <td>I&amp;#39;m going to critique this from a big pict...</td>\n",
              "      <td>1</td>\n",
              "    </tr>\n",
              "    <tr>\n",
              "      <th>337</th>\n",
              "      <td>Akiff Hssn</td>\n",
              "      <td>1. Does a rise in AI Computation required incr...</td>\n",
              "      <td>0</td>\n",
              "    </tr>\n",
              "    <tr>\n",
              "      <th>164</th>\n",
              "      <td>E.C.</td>\n",
              "      <td>Taylor swift is a terrible singer.</td>\n",
              "      <td>0</td>\n",
              "    </tr>\n",
              "    <tr>\n",
              "      <th>187</th>\n",
              "      <td>R G</td>\n",
              "      <td>zuck&amp;#39;s garage is the size of the white hou...</td>\n",
              "      <td>0</td>\n",
              "    </tr>\n",
              "    <tr>\n",
              "      <th>702</th>\n",
              "      <td>Kevin Star Official</td>\n",
              "      <td>Zuckerberg is so fake, especially when discuss...</td>\n",
              "      <td>1</td>\n",
              "    </tr>\n",
              "    <tr>\n",
              "      <th>217</th>\n",
              "      <td>Delta Lame</td>\n",
              "      <td>I wanna see his booster seat 🤔... 😅</td>\n",
              "      <td>0</td>\n",
              "    </tr>\n",
              "  </tbody>\n",
              "</table>\n",
              "</div>\n",
              "    <div class=\"colab-df-buttons\">\n",
              "\n",
              "  <div class=\"colab-df-container\">\n",
              "    <button class=\"colab-df-convert\" onclick=\"convertToInteractive('df-e54f96f7-e04a-4ca5-bff3-2bbb7833c97e')\"\n",
              "            title=\"Convert this dataframe to an interactive table.\"\n",
              "            style=\"display:none;\">\n",
              "\n",
              "  <svg xmlns=\"http://www.w3.org/2000/svg\" height=\"24px\" viewBox=\"0 -960 960 960\">\n",
              "    <path d=\"M120-120v-720h720v720H120Zm60-500h600v-160H180v160Zm220 220h160v-160H400v160Zm0 220h160v-160H400v160ZM180-400h160v-160H180v160Zm440 0h160v-160H620v160ZM180-180h160v-160H180v160Zm440 0h160v-160H620v160Z\"/>\n",
              "  </svg>\n",
              "    </button>\n",
              "\n",
              "  <style>\n",
              "    .colab-df-container {\n",
              "      display:flex;\n",
              "      gap: 12px;\n",
              "    }\n",
              "\n",
              "    .colab-df-convert {\n",
              "      background-color: #E8F0FE;\n",
              "      border: none;\n",
              "      border-radius: 50%;\n",
              "      cursor: pointer;\n",
              "      display: none;\n",
              "      fill: #1967D2;\n",
              "      height: 32px;\n",
              "      padding: 0 0 0 0;\n",
              "      width: 32px;\n",
              "    }\n",
              "\n",
              "    .colab-df-convert:hover {\n",
              "      background-color: #E2EBFA;\n",
              "      box-shadow: 0px 1px 2px rgba(60, 64, 67, 0.3), 0px 1px 3px 1px rgba(60, 64, 67, 0.15);\n",
              "      fill: #174EA6;\n",
              "    }\n",
              "\n",
              "    .colab-df-buttons div {\n",
              "      margin-bottom: 4px;\n",
              "    }\n",
              "\n",
              "    [theme=dark] .colab-df-convert {\n",
              "      background-color: #3B4455;\n",
              "      fill: #D2E3FC;\n",
              "    }\n",
              "\n",
              "    [theme=dark] .colab-df-convert:hover {\n",
              "      background-color: #434B5C;\n",
              "      box-shadow: 0px 1px 3px 1px rgba(0, 0, 0, 0.15);\n",
              "      filter: drop-shadow(0px 1px 2px rgba(0, 0, 0, 0.3));\n",
              "      fill: #FFFFFF;\n",
              "    }\n",
              "  </style>\n",
              "\n",
              "    <script>\n",
              "      const buttonEl =\n",
              "        document.querySelector('#df-e54f96f7-e04a-4ca5-bff3-2bbb7833c97e button.colab-df-convert');\n",
              "      buttonEl.style.display =\n",
              "        google.colab.kernel.accessAllowed ? 'block' : 'none';\n",
              "\n",
              "      async function convertToInteractive(key) {\n",
              "        const element = document.querySelector('#df-e54f96f7-e04a-4ca5-bff3-2bbb7833c97e');\n",
              "        const dataTable =\n",
              "          await google.colab.kernel.invokeFunction('convertToInteractive',\n",
              "                                                    [key], {});\n",
              "        if (!dataTable) return;\n",
              "\n",
              "        const docLinkHtml = 'Like what you see? Visit the ' +\n",
              "          '<a target=\"_blank\" href=https://colab.research.google.com/notebooks/data_table.ipynb>data table notebook</a>'\n",
              "          + ' to learn more about interactive tables.';\n",
              "        element.innerHTML = '';\n",
              "        dataTable['output_type'] = 'display_data';\n",
              "        await google.colab.output.renderOutput(dataTable, element);\n",
              "        const docLink = document.createElement('div');\n",
              "        docLink.innerHTML = docLinkHtml;\n",
              "        element.appendChild(docLink);\n",
              "      }\n",
              "    </script>\n",
              "  </div>\n",
              "\n",
              "\n",
              "<div id=\"df-f270d15c-b5d5-494a-9fe0-4c0109b1557c\">\n",
              "  <button class=\"colab-df-quickchart\" onclick=\"quickchart('df-f270d15c-b5d5-494a-9fe0-4c0109b1557c')\"\n",
              "            title=\"Suggest charts.\"\n",
              "            style=\"display:none;\">\n",
              "\n",
              "<svg xmlns=\"http://www.w3.org/2000/svg\" height=\"24px\"viewBox=\"0 0 24 24\"\n",
              "     width=\"24px\">\n",
              "    <g>\n",
              "        <path d=\"M19 3H5c-1.1 0-2 .9-2 2v14c0 1.1.9 2 2 2h14c1.1 0 2-.9 2-2V5c0-1.1-.9-2-2-2zM9 17H7v-7h2v7zm4 0h-2V7h2v10zm4 0h-2v-4h2v4z\"/>\n",
              "    </g>\n",
              "</svg>\n",
              "  </button>\n",
              "\n",
              "<style>\n",
              "  .colab-df-quickchart {\n",
              "    background-color: #E8F0FE;\n",
              "    border: none;\n",
              "    border-radius: 50%;\n",
              "    cursor: pointer;\n",
              "    display: none;\n",
              "    fill: #1967D2;\n",
              "    height: 32px;\n",
              "    padding: 0 0 0 0;\n",
              "    width: 32px;\n",
              "  }\n",
              "\n",
              "  .colab-df-quickchart:hover {\n",
              "    background-color: #E2EBFA;\n",
              "    box-shadow: 0px 1px 2px rgba(60, 64, 67, 0.3), 0px 1px 3px 1px rgba(60, 64, 67, 0.15);\n",
              "    fill: #174EA6;\n",
              "  }\n",
              "\n",
              "  [theme=dark] .colab-df-quickchart {\n",
              "    background-color: #3B4455;\n",
              "    fill: #D2E3FC;\n",
              "  }\n",
              "\n",
              "  [theme=dark] .colab-df-quickchart:hover {\n",
              "    background-color: #434B5C;\n",
              "    box-shadow: 0px 1px 3px 1px rgba(0, 0, 0, 0.15);\n",
              "    filter: drop-shadow(0px 1px 2px rgba(0, 0, 0, 0.3));\n",
              "    fill: #FFFFFF;\n",
              "  }\n",
              "</style>\n",
              "\n",
              "  <script>\n",
              "    async function quickchart(key) {\n",
              "      const charts = await google.colab.kernel.invokeFunction(\n",
              "          'suggestCharts', [key], {});\n",
              "    }\n",
              "    (() => {\n",
              "      let quickchartButtonEl =\n",
              "        document.querySelector('#df-f270d15c-b5d5-494a-9fe0-4c0109b1557c button');\n",
              "      quickchartButtonEl.style.display =\n",
              "        google.colab.kernel.accessAllowed ? 'block' : 'none';\n",
              "    })();\n",
              "  </script>\n",
              "</div>\n",
              "    </div>\n",
              "  </div>\n"
            ]
          },
          "metadata": {},
          "execution_count": 11
        }
      ]
    },
    {
      "cell_type": "markdown",
      "source": [
        "##Pre-processing"
      ],
      "metadata": {
        "id": "aLeZD_Xy1G34"
      }
    },
    {
      "cell_type": "markdown",
      "source": [
        "####Cleaning HTML&XHTML tags"
      ],
      "metadata": {
        "id": "e_8vW7WT1wgW"
      }
    },
    {
      "cell_type": "code",
      "source": [
        "from html.parser import HTMLParser"
      ],
      "metadata": {
        "id": "WO2Wiejg0-TB"
      },
      "execution_count": null,
      "outputs": []
    },
    {
      "cell_type": "code",
      "source": [
        "class MyHTMLParser(HTMLParser):\n",
        "    def __init__(self):\n",
        "        super().__init__()\n",
        "        self.result = []\n",
        "\n",
        "    def handle_data(self, data):\n",
        "        self.result.append(data)\n",
        "\n",
        "def clean_html_tags(html):\n",
        "    parser = MyHTMLParser()\n",
        "    parser.feed(html)\n",
        "    return ' '.join(parser.result)"
      ],
      "metadata": {
        "id": "m1xRfFkV1z5A"
      },
      "execution_count": null,
      "outputs": []
    },
    {
      "cell_type": "code",
      "source": [
        "df['Comment'] = df['Comment'].apply(clean_html_tags)\n",
        "df['Author Name'] = df['Author Name'].apply(clean_html_tags)"
      ],
      "metadata": {
        "id": "qjumFXcG12k3"
      },
      "execution_count": null,
      "outputs": []
    },
    {
      "cell_type": "markdown",
      "source": [
        "####Decoding data"
      ],
      "metadata": {
        "id": "G_NX4oca17E-"
      }
    },
    {
      "cell_type": "code",
      "source": [
        "df['Comment'] = df['Comment'].apply(lambda x: x.encode('ascii', 'ignore').decode('ascii'))"
      ],
      "metadata": {
        "id": "jVVGpbjg2OUF"
      },
      "execution_count": null,
      "outputs": []
    },
    {
      "cell_type": "markdown",
      "source": [
        "####Removal of Expressions"
      ],
      "metadata": {
        "id": "sazAG8nN2Xoe"
      }
    },
    {
      "cell_type": "code",
      "source": [
        "import re"
      ],
      "metadata": {
        "id": "ErpUUP5Q2dQ1"
      },
      "execution_count": null,
      "outputs": []
    },
    {
      "cell_type": "code",
      "source": [
        "def remove_emojis(text):\n",
        "    emoji_pattern = re.compile(\"[\"\n",
        "                               u\"\\U0001F600-\\U0001F64F\"  # emoticons\n",
        "                               u\"\\U0001F300-\\U0001F5FF\"  # symbols & pictographs\n",
        "                               u\"\\U0001F680-\\U0001F6FF\"  # transport & map symbols\n",
        "                               u\"\\U0001F700-\\U0001F77F\"  # alchemical symbols\n",
        "                               \"]+\", flags=re.UNICODE)\n",
        "    return emoji_pattern.sub(r'', text)"
      ],
      "metadata": {
        "id": "zWbMepXY2hvk"
      },
      "execution_count": null,
      "outputs": []
    },
    {
      "cell_type": "code",
      "source": [
        "df['Comment'] = df['Comment'].apply(remove_emojis)"
      ],
      "metadata": {
        "id": "ELbOqUcn2j9i"
      },
      "execution_count": null,
      "outputs": []
    },
    {
      "cell_type": "markdown",
      "source": [
        "####Apostrophe Lookup"
      ],
      "metadata": {
        "id": "vRHLGDh92p8V"
      }
    },
    {
      "cell_type": "code",
      "source": [
        "APPOSTOPHES = {\"'s\": \" is\", \"'m\": \" am\", \"'re\": \" are\", \"aren't\": \"are not\",\n",
        "               \"can't\": \"cannot\", \"couldn't\": \"could not\",\n",
        "               \"didn't\": \"did not\", \"doesn't\": \"does not\",}\n",
        "#we can use bigger dictionary for better results\n",
        "\n",
        "def apost(txt):\n",
        "    words = txt.split()\n",
        "    reformed = [APPOSTOPHES[word] if word in APPOSTOPHES else word for word in words]\n",
        "    reformed = \" \".join(reformed)\n",
        "    return reformed"
      ],
      "metadata": {
        "id": "fTlp8ykR2ugN"
      },
      "execution_count": null,
      "outputs": []
    },
    {
      "cell_type": "code",
      "source": [
        "df['Comment'] = df['Comment'].apply(lambda x: apost(x))"
      ],
      "metadata": {
        "id": "y8bnnfpC2-pS"
      },
      "execution_count": null,
      "outputs": []
    },
    {
      "cell_type": "markdown",
      "source": [
        "####Removal of Stop-words"
      ],
      "metadata": {
        "id": "_d4MfKaZ2_Lv"
      }
    },
    {
      "cell_type": "code",
      "source": [
        "import nltk\n",
        "from nltk.corpus import stopwords\n",
        "from nltk.tokenize import word_tokenize\n",
        "\n",
        "nltk.download('stopwords')\n",
        "nltk.download('punkt')"
      ],
      "metadata": {
        "id": "Zsh3cUOi3CiG"
      },
      "execution_count": null,
      "outputs": []
    },
    {
      "cell_type": "code",
      "source": [
        "def remove_stop_words(sentence):\n",
        "    words = word_tokenize(sentence)\n",
        "    stop_words = set(stopwords.words('english'))\n",
        "    filtered_words = [word for word in words if word.lower() not in stop_words]\n",
        "    return ' '.join(filtered_words)"
      ],
      "metadata": {
        "id": "d6vIyWZU3F4e"
      },
      "execution_count": null,
      "outputs": []
    },
    {
      "cell_type": "code",
      "source": [
        "df['Comment'] = df['Comment'].apply(remove_stop_words)"
      ],
      "metadata": {
        "id": "DGr1vbuw3LJV"
      },
      "execution_count": null,
      "outputs": []
    },
    {
      "cell_type": "markdown",
      "source": [
        "####Split Attached words"
      ],
      "metadata": {
        "id": "MS9CH85T3L1P"
      }
    },
    {
      "cell_type": "code",
      "source": [
        "def clean_format_text(text):\n",
        "    cleaned = re.sub(r'(?<=[a-z])(?=[A-Z])', ' ', text)\n",
        "    return cleaned"
      ],
      "metadata": {
        "id": "oLHxoYuD3RCI"
      },
      "execution_count": null,
      "outputs": []
    },
    {
      "cell_type": "code",
      "source": [
        "df['Comment'] = df['Comment'].apply(clean_format_text)"
      ],
      "metadata": {
        "id": "SH259-313XFb"
      },
      "execution_count": null,
      "outputs": []
    },
    {
      "cell_type": "markdown",
      "source": [
        "####Removing URLs"
      ],
      "metadata": {
        "id": "lkAFji5icc2y"
      }
    },
    {
      "cell_type": "code",
      "source": [
        "def remove_urls(text):\n",
        "    url_pattern = re.compile(r'http[s]?://(?:[a-zA-Z]|[0-9]|[$-_@.&+]|[!*\\\\(\\\\),]|(?:%[0-9a-fA-F][0-9a-fA-F]))+', flags=re.MULTILINE)\n",
        "    return url_pattern.sub('', text)"
      ],
      "metadata": {
        "id": "LhrXTRj3ccZZ"
      },
      "execution_count": null,
      "outputs": []
    },
    {
      "cell_type": "code",
      "source": [
        "df['Comment'] = df['Comment'].apply(remove_urls)"
      ],
      "metadata": {
        "id": "9dkJ0pfGdMqc"
      },
      "execution_count": null,
      "outputs": []
    },
    {
      "cell_type": "markdown",
      "source": [
        "##Cleaned data"
      ],
      "metadata": {
        "id": "DbPX6YgG3cIy"
      }
    },
    {
      "cell_type": "code",
      "source": [
        "df"
      ],
      "metadata": {
        "colab": {
          "base_uri": "https://localhost:8080/",
          "height": 423
        },
        "id": "62GQUq6C3gO7",
        "outputId": "f40ca8ea-f1ed-4561-bd07-e805978a1352"
      },
      "execution_count": null,
      "outputs": [
        {
          "output_type": "execute_result",
          "data": {
            "text/plain": [
              "                   Author Name  \\\n",
              "0                  Lex Fridman   \n",
              "1             Michael Wojcicki   \n",
              "2                    Allen Han   \n",
              "3    Charles Timmy Phillips jr   \n",
              "4                  Alex Marcus   \n",
              "..                         ...   \n",
              "994                    Bernios   \n",
              "995                George Heck   \n",
              "996                    Scott T   \n",
              "997            Ellie Jo Bonney   \n",
              "998                  viruslab1   \n",
              "\n",
              "                                               Comment Like Count  \n",
              "0    timestamps . Please check sponsors support pod...        626  \n",
              "1    corp wants shutdown free speech GOV calls want...          0  \n",
              "2    2000 # C main language . 2003 Scala Groovy , 2...          0  \n",
              "3                   'm phone Timothy Allen cathy teeth          0  \n",
              "4                 Lex , relax outfit . going funeral ?          0  \n",
              "..                                                 ...        ...  \n",
              "994  've got hand Lex : manages talk influential pe...         39  \n",
              "995  many umm try stop ! friendly advice past compe...          0  \n",
              "996        first time 's ever seemed like actual human          0  \n",
              "997                      666k views ... jus saying xxx          0  \n",
              "998                                             best !          0  \n",
              "\n",
              "[999 rows x 3 columns]"
            ],
            "text/html": [
              "\n",
              "  <div id=\"df-fe35ba3d-01f6-4bc3-af7c-69e47569a9b8\" class=\"colab-df-container\">\n",
              "    <div>\n",
              "<style scoped>\n",
              "    .dataframe tbody tr th:only-of-type {\n",
              "        vertical-align: middle;\n",
              "    }\n",
              "\n",
              "    .dataframe tbody tr th {\n",
              "        vertical-align: top;\n",
              "    }\n",
              "\n",
              "    .dataframe thead th {\n",
              "        text-align: right;\n",
              "    }\n",
              "</style>\n",
              "<table border=\"1\" class=\"dataframe\">\n",
              "  <thead>\n",
              "    <tr style=\"text-align: right;\">\n",
              "      <th></th>\n",
              "      <th>Author Name</th>\n",
              "      <th>Comment</th>\n",
              "      <th>Like Count</th>\n",
              "    </tr>\n",
              "  </thead>\n",
              "  <tbody>\n",
              "    <tr>\n",
              "      <th>0</th>\n",
              "      <td>Lex Fridman</td>\n",
              "      <td>timestamps . Please check sponsors support pod...</td>\n",
              "      <td>626</td>\n",
              "    </tr>\n",
              "    <tr>\n",
              "      <th>1</th>\n",
              "      <td>Michael Wojcicki</td>\n",
              "      <td>corp wants shutdown free speech GOV calls want...</td>\n",
              "      <td>0</td>\n",
              "    </tr>\n",
              "    <tr>\n",
              "      <th>2</th>\n",
              "      <td>Allen Han</td>\n",
              "      <td>2000 # C main language . 2003 Scala Groovy , 2...</td>\n",
              "      <td>0</td>\n",
              "    </tr>\n",
              "    <tr>\n",
              "      <th>3</th>\n",
              "      <td>Charles Timmy Phillips jr</td>\n",
              "      <td>'m phone Timothy Allen cathy teeth</td>\n",
              "      <td>0</td>\n",
              "    </tr>\n",
              "    <tr>\n",
              "      <th>4</th>\n",
              "      <td>Alex Marcus</td>\n",
              "      <td>Lex , relax outfit . going funeral ?</td>\n",
              "      <td>0</td>\n",
              "    </tr>\n",
              "    <tr>\n",
              "      <th>...</th>\n",
              "      <td>...</td>\n",
              "      <td>...</td>\n",
              "      <td>...</td>\n",
              "    </tr>\n",
              "    <tr>\n",
              "      <th>994</th>\n",
              "      <td>Bernios</td>\n",
              "      <td>'ve got hand Lex : manages talk influential pe...</td>\n",
              "      <td>39</td>\n",
              "    </tr>\n",
              "    <tr>\n",
              "      <th>995</th>\n",
              "      <td>George Heck</td>\n",
              "      <td>many umm try stop ! friendly advice past compe...</td>\n",
              "      <td>0</td>\n",
              "    </tr>\n",
              "    <tr>\n",
              "      <th>996</th>\n",
              "      <td>Scott T</td>\n",
              "      <td>first time 's ever seemed like actual human</td>\n",
              "      <td>0</td>\n",
              "    </tr>\n",
              "    <tr>\n",
              "      <th>997</th>\n",
              "      <td>Ellie Jo Bonney</td>\n",
              "      <td>666k views ... jus saying xxx</td>\n",
              "      <td>0</td>\n",
              "    </tr>\n",
              "    <tr>\n",
              "      <th>998</th>\n",
              "      <td>viruslab1</td>\n",
              "      <td>best !</td>\n",
              "      <td>0</td>\n",
              "    </tr>\n",
              "  </tbody>\n",
              "</table>\n",
              "<p>999 rows × 3 columns</p>\n",
              "</div>\n",
              "    <div class=\"colab-df-buttons\">\n",
              "\n",
              "  <div class=\"colab-df-container\">\n",
              "    <button class=\"colab-df-convert\" onclick=\"convertToInteractive('df-fe35ba3d-01f6-4bc3-af7c-69e47569a9b8')\"\n",
              "            title=\"Convert this dataframe to an interactive table.\"\n",
              "            style=\"display:none;\">\n",
              "\n",
              "  <svg xmlns=\"http://www.w3.org/2000/svg\" height=\"24px\" viewBox=\"0 -960 960 960\">\n",
              "    <path d=\"M120-120v-720h720v720H120Zm60-500h600v-160H180v160Zm220 220h160v-160H400v160Zm0 220h160v-160H400v160ZM180-400h160v-160H180v160Zm440 0h160v-160H620v160ZM180-180h160v-160H180v160Zm440 0h160v-160H620v160Z\"/>\n",
              "  </svg>\n",
              "    </button>\n",
              "\n",
              "  <style>\n",
              "    .colab-df-container {\n",
              "      display:flex;\n",
              "      gap: 12px;\n",
              "    }\n",
              "\n",
              "    .colab-df-convert {\n",
              "      background-color: #E8F0FE;\n",
              "      border: none;\n",
              "      border-radius: 50%;\n",
              "      cursor: pointer;\n",
              "      display: none;\n",
              "      fill: #1967D2;\n",
              "      height: 32px;\n",
              "      padding: 0 0 0 0;\n",
              "      width: 32px;\n",
              "    }\n",
              "\n",
              "    .colab-df-convert:hover {\n",
              "      background-color: #E2EBFA;\n",
              "      box-shadow: 0px 1px 2px rgba(60, 64, 67, 0.3), 0px 1px 3px 1px rgba(60, 64, 67, 0.15);\n",
              "      fill: #174EA6;\n",
              "    }\n",
              "\n",
              "    .colab-df-buttons div {\n",
              "      margin-bottom: 4px;\n",
              "    }\n",
              "\n",
              "    [theme=dark] .colab-df-convert {\n",
              "      background-color: #3B4455;\n",
              "      fill: #D2E3FC;\n",
              "    }\n",
              "\n",
              "    [theme=dark] .colab-df-convert:hover {\n",
              "      background-color: #434B5C;\n",
              "      box-shadow: 0px 1px 3px 1px rgba(0, 0, 0, 0.15);\n",
              "      filter: drop-shadow(0px 1px 2px rgba(0, 0, 0, 0.3));\n",
              "      fill: #FFFFFF;\n",
              "    }\n",
              "  </style>\n",
              "\n",
              "    <script>\n",
              "      const buttonEl =\n",
              "        document.querySelector('#df-fe35ba3d-01f6-4bc3-af7c-69e47569a9b8 button.colab-df-convert');\n",
              "      buttonEl.style.display =\n",
              "        google.colab.kernel.accessAllowed ? 'block' : 'none';\n",
              "\n",
              "      async function convertToInteractive(key) {\n",
              "        const element = document.querySelector('#df-fe35ba3d-01f6-4bc3-af7c-69e47569a9b8');\n",
              "        const dataTable =\n",
              "          await google.colab.kernel.invokeFunction('convertToInteractive',\n",
              "                                                    [key], {});\n",
              "        if (!dataTable) return;\n",
              "\n",
              "        const docLinkHtml = 'Like what you see? Visit the ' +\n",
              "          '<a target=\"_blank\" href=https://colab.research.google.com/notebooks/data_table.ipynb>data table notebook</a>'\n",
              "          + ' to learn more about interactive tables.';\n",
              "        element.innerHTML = '';\n",
              "        dataTable['output_type'] = 'display_data';\n",
              "        await google.colab.output.renderOutput(dataTable, element);\n",
              "        const docLink = document.createElement('div');\n",
              "        docLink.innerHTML = docLinkHtml;\n",
              "        element.appendChild(docLink);\n",
              "      }\n",
              "    </script>\n",
              "  </div>\n",
              "\n",
              "\n",
              "<div id=\"df-3312dc7e-7e8b-45f7-9f0b-fff580c66862\">\n",
              "  <button class=\"colab-df-quickchart\" onclick=\"quickchart('df-3312dc7e-7e8b-45f7-9f0b-fff580c66862')\"\n",
              "            title=\"Suggest charts.\"\n",
              "            style=\"display:none;\">\n",
              "\n",
              "<svg xmlns=\"http://www.w3.org/2000/svg\" height=\"24px\"viewBox=\"0 0 24 24\"\n",
              "     width=\"24px\">\n",
              "    <g>\n",
              "        <path d=\"M19 3H5c-1.1 0-2 .9-2 2v14c0 1.1.9 2 2 2h14c1.1 0 2-.9 2-2V5c0-1.1-.9-2-2-2zM9 17H7v-7h2v7zm4 0h-2V7h2v10zm4 0h-2v-4h2v4z\"/>\n",
              "    </g>\n",
              "</svg>\n",
              "  </button>\n",
              "\n",
              "<style>\n",
              "  .colab-df-quickchart {\n",
              "    background-color: #E8F0FE;\n",
              "    border: none;\n",
              "    border-radius: 50%;\n",
              "    cursor: pointer;\n",
              "    display: none;\n",
              "    fill: #1967D2;\n",
              "    height: 32px;\n",
              "    padding: 0 0 0 0;\n",
              "    width: 32px;\n",
              "  }\n",
              "\n",
              "  .colab-df-quickchart:hover {\n",
              "    background-color: #E2EBFA;\n",
              "    box-shadow: 0px 1px 2px rgba(60, 64, 67, 0.3), 0px 1px 3px 1px rgba(60, 64, 67, 0.15);\n",
              "    fill: #174EA6;\n",
              "  }\n",
              "\n",
              "  [theme=dark] .colab-df-quickchart {\n",
              "    background-color: #3B4455;\n",
              "    fill: #D2E3FC;\n",
              "  }\n",
              "\n",
              "  [theme=dark] .colab-df-quickchart:hover {\n",
              "    background-color: #434B5C;\n",
              "    box-shadow: 0px 1px 3px 1px rgba(0, 0, 0, 0.15);\n",
              "    filter: drop-shadow(0px 1px 2px rgba(0, 0, 0, 0.3));\n",
              "    fill: #FFFFFF;\n",
              "  }\n",
              "</style>\n",
              "\n",
              "  <script>\n",
              "    async function quickchart(key) {\n",
              "      const charts = await google.colab.kernel.invokeFunction(\n",
              "          'suggestCharts', [key], {});\n",
              "    }\n",
              "    (() => {\n",
              "      let quickchartButtonEl =\n",
              "        document.querySelector('#df-3312dc7e-7e8b-45f7-9f0b-fff580c66862 button');\n",
              "      quickchartButtonEl.style.display =\n",
              "        google.colab.kernel.accessAllowed ? 'block' : 'none';\n",
              "    })();\n",
              "  </script>\n",
              "</div>\n",
              "    </div>\n",
              "  </div>\n"
            ]
          },
          "metadata": {},
          "execution_count": 28
        }
      ]
    },
    {
      "cell_type": "code",
      "source": [
        "df.to_csv('youtube_vid_comments.csv')"
      ],
      "metadata": {
        "id": "QMWDuIGu7Zs7"
      },
      "execution_count": null,
      "outputs": []
    }
  ]
}